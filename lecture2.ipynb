{
 "cells": [
  {
   "cell_type": "markdown",
   "metadata": {},
   "source": [
    "Import relevant packages:"
   ]
  },
  {
   "cell_type": "code",
   "execution_count": null,
   "metadata": {},
   "outputs": [],
   "source": [
    "import matplotlib.pyplot as plt\n",
    "import numpy as np\n",
    "import astropy.units as u\n",
    "from astropy.io import fits"
   ]
  },
  {
   "cell_type": "markdown",
   "metadata": {},
   "source": [
    "Function to read & process FITS files:"
   ]
  },
  {
   "cell_type": "code",
   "execution_count": null,
   "metadata": {},
   "outputs": [],
   "source": [
    "def readfits(filename):\n",
    "    file = fits.open(filename)\n",
    "    file.verify('fix')    # This line fixes any ambiguities and inconsistencies in the data structure\n",
    "    file.info()\n",
    "    return file;"
   ]
  },
  {
   "cell_type": "markdown",
   "metadata": {},
   "source": [
    "Read Level 2 Data:\n"
   ]
  },
  {
   "cell_type": "code",
   "execution_count": null,
   "metadata": {
    "scrolled": true
   },
   "outputs": [],
   "source": [
    "extract_data = readfits('./HinodeSP/20070310_113736.fits')"
   ]
  },
  {
   "cell_type": "markdown",
   "metadata": {},
   "source": [
    "Extract values necessary to visualize the signed B-field:"
   ]
  },
  {
   "cell_type": "code",
   "execution_count": null,
   "metadata": {},
   "outputs": [],
   "source": [
    "field = extract_data[1].data\n",
    "inc = extract_data[2].data\n",
    "fillfac = extract_data[12].data\n",
    "\n",
    "Bsigned = fillfac * field * np.cos(inc)"
   ]
  },
  {
   "cell_type": "markdown",
   "metadata": {},
   "source": [
    "Visualize the B Field:"
   ]
  },
  {
   "cell_type": "code",
   "execution_count": null,
   "metadata": {},
   "outputs": [],
   "source": [
    "plt.figure(figsize=(20,10))\n",
    "plt.imshow(Bsigned, cmap='gray')\n",
    "plt.colorbar()\n",
    "plt.title('Signed B Field',FontSize=16)\n",
    "plt.show()"
   ]
  },
  {
   "cell_type": "code",
   "execution_count": null,
   "metadata": {},
   "outputs": [],
   "source": [
    "plt.figure(figsize=(20,10))\n",
    "plt.imshow(Bsigned, cmap='gray')\n",
    "plt.title('Saturated Signed B Field',FontSize=16)\n",
    "plt.colorbar()\n",
    "plt.clim([-200,200])\n",
    "plt.show()"
   ]
  },
  {
   "cell_type": "markdown",
   "metadata": {},
   "source": [
    "Let's make a flattened histogram to visualize the distribution of field values in the signed B-field:"
   ]
  },
  {
   "cell_type": "code",
   "execution_count": null,
   "metadata": {},
   "outputs": [],
   "source": [
    "Bflat = Bsigned.flatten(order='C')\n",
    "\n",
    "plt.figure(figsize = (10,10))\n",
    "plt.hist(Bflat, bins=100)\n",
    "plt.title('B Field Values',FontSize=16)\n",
    "plt.xlabel('B Flux',FontSize=16)\n",
    "plt.ylabel('Counts',FontSize=16)\n",
    "plt.show()"
   ]
  },
  {
   "cell_type": "markdown",
   "metadata": {},
   "source": [
    "Again, let's saturate the histogram to see the weak-field distribution:"
   ]
  },
  {
   "cell_type": "code",
   "execution_count": null,
   "metadata": {},
   "outputs": [],
   "source": [
    "plt.figure(figsize = (10,10))\n",
    "plt.hist(Bflat, bins=750)\n",
    "plt.xlim([-200,200])\n",
    "plt.title('Saturated B Field Values',FontSize=16)\n",
    "plt.xlabel('Saturated B Flux',FontSize=16)\n",
    "plt.ylabel('Counts',FontSize=16)\n",
    "plt.show()"
   ]
  },
  {
   "cell_type": "markdown",
   "metadata": {},
   "source": [
    "Now, we'll look at the distribution of field inclination:"
   ]
  },
  {
   "cell_type": "code",
   "execution_count": null,
   "metadata": {},
   "outputs": [],
   "source": [
    "plt.figure(figsize=(20,10))\n",
    "plt.imshow(inc, cmap='gray')\n",
    "plt.colorbar()\n",
    "plt.title('Field Inclination',FontSize=16)\n",
    "plt.show()"
   ]
  },
  {
   "cell_type": "markdown",
   "metadata": {},
   "source": [
    "Finally, let's check out a histogram of inclination values:"
   ]
  },
  {
   "cell_type": "code",
   "execution_count": null,
   "metadata": {},
   "outputs": [],
   "source": [
    "incflat = inc.flatten(order='c')\n",
    "\n",
    "plt.figure(figsize = (10,10))\n",
    "plt.hist(incflat, bins=100)\n",
    "plt.title('Inclination Distribution',FontSize=16)\n",
    "plt.xlabel('Inclination [deg]',FontSize=16)\n",
    "plt.ylabel('Counts',FontSize=16)\n",
    "plt.show()"
   ]
  },
  {
   "cell_type": "code",
   "execution_count": null,
   "metadata": {},
   "outputs": [],
   "source": []
  }
 ],
 "metadata": {
  "kernelspec": {
   "display_name": "Python 3",
   "language": "python",
   "name": "python3"
  },
  "language_info": {
   "codemirror_mode": {
    "name": "ipython",
    "version": 3
   },
   "file_extension": ".py",
   "mimetype": "text/x-python",
   "name": "python",
   "nbconvert_exporter": "python",
   "pygments_lexer": "ipython3",
   "version": "3.7.4"
  }
 },
 "nbformat": 4,
 "nbformat_minor": 2
}
